{
 "cells": [
  {
   "cell_type": "code",
   "execution_count": 1,
   "id": "251ad2d3-9d04-4b71-bd1d-ff9cd69bd314",
   "metadata": {},
   "outputs": [],
   "source": [
    "import numpy as np\n",
    "import matplotlib.pyplot as plt\n",
    "from cellpose import models, io, utils\n",
    "from cellpose.io import imread\n",
    "import imageio.v2 as imageio\n",
    "from imageio.v2 import imread\n",
    "import skimage as sk\n",
    "import napari\n",
    "import pandas as pd\n",
    "import os"
   ]
  },
  {
   "cell_type": "code",
   "execution_count": 72,
   "id": "78ace242-4031-4bf1-8b77-81fed7adac9b",
   "metadata": {},
   "outputs": [
    {
     "name": "stdout",
     "output_type": "stream",
     "text": [
      "['C1-A1_Veh_a_2024_06_21__17_06_32.tif', 'C1-A3_T_a_2024_06_21__15_58_06.tif']\n",
      "['C2-A1_Veh_a_2024_06_21__17_06_32.tif', 'C2-A3_T_a_2024_06_21__15_58_06.tif']\n",
      "Done creating arrays\n",
      "Done generating ratio image\n"
     ]
    },
    {
     "name": "stderr",
     "output_type": "stream",
     "text": [
      "E:\\Temp\\ipykernel_35072\\2443797558.py:37: UserWarning: E:/Rothbart_Lab/Kate/MitoTracker/Round_3_Imaging/Split_Channels/CP_masks\\ratio_mask_C1-A1_Veh_a_2024_06_21__17_06_32.tif is a low contrast image\n",
      "  sk.io.imsave(os.path.join(cp_masks_path,'ratio_mask_'+red_images[i]),masks[i])\n",
      "E:\\Temp\\ipykernel_35072\\2443797558.py:37: UserWarning: E:/Rothbart_Lab/Kate/MitoTracker/Round_3_Imaging/Split_Channels/CP_masks\\ratio_mask_C1-A3_T_a_2024_06_21__15_58_06.tif is a low contrast image\n",
      "  sk.io.imsave(os.path.join(cp_masks_path,'ratio_mask_'+red_images[i]),masks[i])\n"
     ]
    },
    {
     "name": "stdout",
     "output_type": "stream",
     "text": [
      "Done creating CP masks\n",
      "image  0  shape: (2048, 2048, 3)\n",
      "image  1  shape: (2048, 2048, 3)\n",
      "Done with creating measurements!\n"
     ]
    }
   ],
   "source": [
    "red_path = 'E:/Rothbart_Lab/Kate/MitoTracker/Round_3_Imaging/Split_Channels/C1_MitoTracker_Red'\n",
    "green_path = 'E:/Rothbart_Lab/Kate/MitoTracker/Round_3_Imaging/Split_Channels/C2_MitoTracker_Green'\n",
    "red_images = os.listdir(red_path)\n",
    "green_images = os.listdir(green_path)\n",
    "save_df_path = 'E:/Rothbart_Lab/Kate/MitoTracker/Round_3_Imaging/Split_Channels/dataframes'\n",
    "save_imgs_path = 'E:/Rothbart_Lab/Kate/MitoTracker/Round_3_Imaging/Split_Channels/image_stacks'\n",
    "cp_masks_path = 'E:/Rothbart_Lab/Kate/MitoTracker/Round_3_Imaging/Split_Channels/CP_masks'\n",
    "print(red_images)\n",
    "print(green_images)\n",
    "#create avg projections of each channel\n",
    "avg_img_red = []\n",
    "avg_img_green = []\n",
    "for i in range(len(red_images)):\n",
    "    img_red = imread(os.path.join(red_path, red_images[i]))\n",
    "    np_img_red = np.asarray(img_red, dtype=np.float32)\n",
    "    avg_red = np.average(np_img_red, axis=0)\n",
    "    avg_img_red.append(avg_red)\n",
    "    img_green = imread(os.path.join(green_path, green_images[i]))\n",
    "    np_img_green = np.asarray(img_green, dtype=np.float32)\n",
    "    avg_green = np.average(np_img_green, axis=0)\n",
    "    avg_img_green.append(avg_green)\n",
    "print('Done creating arrays')\n",
    "#Create a ratio image of red/green\n",
    "ratio_imgs = []\n",
    "for i in range(len(avg_img_green)):\n",
    "    ratio = np.divide(avg_img_red[i], avg_img_green[i], out=np.zeros_like(avg_img_red), where=avg_img_green!=0)\n",
    "    ratio = ratio[1:]\n",
    "    ratio = np.squeeze(ratio, axis=0)\n",
    "    ratio_imgs.append(ratio)\n",
    "print('Done generating ratio image')\n",
    "#Send ratio images to CP to generate masks\n",
    "io.logger_setup()\n",
    "model = models.Cellpose(gpu=True,model_type='cyto3') # model_type='cyto' or 'nuclei' or 'cyto2' or 'cyto3'\n",
    "channels =[[0,0]]\n",
    "masks, flows, styles, diams = model.eval(ratio_imgs, diameter=270, channels=channels)\n",
    "for i in range(len(masks)):\n",
    "    sk.io.imsave(os.path.join(cp_masks_path,'ratio_mask_'+red_images[i]),masks[i])\n",
    "print('Done creating CP masks')\n",
    "#Stack images and then get measurements\n",
    "img_stacks = []\n",
    "for i in range(len(avg_img_green)):\n",
    "    image_list = [avg_img_green[i],avg_img_red[i],ratio_imgs[i]]\n",
    "    all_channels = np.stack(image_list, axis=-1)\n",
    "    img_stacks.append(all_channels)\n",
    "    print('image ', str(i), ' shape:', all_channels.shape)\n",
    "    sk.io.imsave(os.path.join(save_imgs_path,'ratio_'+red_images[i]),all_channels)\n",
    "    cell_masks = sk.measure.label(masks[i]) #does not create a label image in Napari\n",
    "    ratio_measurements = sk.measure.regionprops_table(cell_masks, img_stacks[i], \n",
    "                                                  properties=('label','area', 'centroid','intensity_max','intensity_mean','intensity_min'))\n",
    "    df = pd.DataFrame.from_dict(ratio_measurements)\n",
    "    clean_name = str(red_images[i])\n",
    "    clean_name = clean_name[3:-4]\n",
    "    df.to_csv(os.path.join(save_df_path,'measurements_'+clean_name+'.csv'))\n",
    "print('Done with creating measurements!')"
   ]
  },
  {
   "cell_type": "code",
   "execution_count": 25,
   "id": "04ca35f3-446a-42f8-9a22-ad8b4d762f87",
   "metadata": {},
   "outputs": [],
   "source": [
    "#create a loop that generates an avg projections of each image\n",
    "avg_img_red = []\n",
    "avg_img_green = []\n",
    "for i in range(len(red_images)):\n",
    "    img_red = imread(os.path.join(red_path, red_images[i]))\n",
    "    np_img_red = np.asarray(img_red, dtype=np.float32)\n",
    "    avg_red = np.average(np_img_red, axis=0)\n",
    "    avg_img_red.append(avg_red)\n",
    "    img_green = imread(os.path.join(green_path, green_images[i]))\n",
    "    np_img_green = np.asarray(img_green, dtype=np.float32)\n",
    "    avg_green = np.average(np_img_green, axis=0)\n",
    "    avg_img_green.append(avg_green)\n"
   ]
  },
  {
   "cell_type": "code",
   "execution_count": 55,
   "id": "5aecccc0-6ae6-48d2-b6ea-f867f6bc14d4",
   "metadata": {},
   "outputs": [
    {
     "name": "stdout",
     "output_type": "stream",
     "text": [
      "(2048, 2048)\n"
     ]
    }
   ],
   "source": [
    "ratio_imgs = []\n",
    "for i in range(len(avg_img_green)):\n",
    "    ratio = np.divide(avg_img_red[i], avg_img_green[i], out=np.zeros_like(avg_img_red), where=avg_img_green!=0)\n",
    "    ratio = ratio[1:]\n",
    "    ratio = np.squeeze(ratio, axis=0)\n",
    "    ratio_imgs.append(ratio)\n",
    "print(ratio_imgs[0].shape)"
   ]
  },
  {
   "cell_type": "code",
   "execution_count": 64,
   "id": "fa6d6341-b374-4084-86f0-536c3c8538db",
   "metadata": {},
   "outputs": [],
   "source": [
    "#run CP on all ratio images; automatically runs on all images in a list; outputs all masks into a list\n",
    "io.logger_setup()\n",
    "# model_type='cyto' or 'nuclei' or 'cyto2' or 'cyto3'\n",
    "model = models.Cellpose(gpu=True,model_type='cyto3')\n",
    "channels =[[0,0]]\n",
    "masks, flows, styles, diams = model.eval(ratio_imgs, diameter=270, channels=channels)"
   ]
  },
  {
   "cell_type": "code",
   "execution_count": 65,
   "id": "8efded27-99a4-4875-b9d5-50023172c110",
   "metadata": {},
   "outputs": [
    {
     "name": "stderr",
     "output_type": "stream",
     "text": [
      "E:\\Temp\\ipykernel_35072\\1684865539.py:2: UserWarning: E:/Rothbart_Lab/Kate/MitoTracker/Round_3_Imaging/Split_Channels/CP_masks\\ratio_mask_C1-A1_Veh_a_2024_06_21__17_06_32.tif is a low contrast image\n",
      "  sk.io.imsave(os.path.join(cp_masks_path,'ratio_mask_'+red_images[i]),masks[i])\n",
      "E:\\Temp\\ipykernel_35072\\1684865539.py:2: UserWarning: E:/Rothbart_Lab/Kate/MitoTracker/Round_3_Imaging/Split_Channels/CP_masks\\ratio_mask_C1-A3_T_a_2024_06_21__15_58_06.tif is a low contrast image\n",
      "  sk.io.imsave(os.path.join(cp_masks_path,'ratio_mask_'+red_images[i]),masks[i])\n"
     ]
    }
   ],
   "source": [
    "for i in range(len(masks)):\n",
    "    sk.io.imsave(os.path.join(cp_masks_path,'ratio_mask_'+red_images[i]),masks[i])"
   ]
  },
  {
   "cell_type": "code",
   "execution_count": 38,
   "id": "b9aa71a7-dd4e-4bc8-bb9f-592b0d9d905c",
   "metadata": {},
   "outputs": [
    {
     "name": "stdout",
     "output_type": "stream",
     "text": [
      "avg green shape: (2048, 2048)\n",
      "avg red shape: (2048, 2048)\n",
      "ratio shape: (2, 2048, 2048)\n"
     ]
    }
   ],
   "source": [
    "print('avg green shape:', avg_img_green[0].shape)\n",
    "print('avg red shape:', avg_img_red[0].shape)\n",
    "print('ratio shape:', ratio_imgs[0].shape)"
   ]
  },
  {
   "cell_type": "code",
   "execution_count": 66,
   "id": "c1af5ee2-65f0-44ce-9ae2-a29952cb0aff",
   "metadata": {},
   "outputs": [
    {
     "name": "stdout",
     "output_type": "stream",
     "text": [
      "image  0  shape: (2048, 2048, 3)\n",
      "image  1  shape: (2048, 2048, 3)\n"
     ]
    }
   ],
   "source": [
    "#stack images and then get measurements\n",
    "img_stacks = []\n",
    "for i in range(len(avg_img_green)):\n",
    "    image_list = [avg_img_green[i],avg_img_red[i],ratio_imgs[i]]\n",
    "    all_channels = np.stack(image_list, axis=-1)\n",
    "    img_stacks.append(all_channels)\n",
    "    print('image ', str(i), ' shape:', all_channels.shape)\n",
    "    sk.io.imsave(os.path.join(save_imgs_path,'ratio_'+red_images[i]),all_channels)"
   ]
  },
  {
   "cell_type": "code",
   "execution_count": 71,
   "id": "a683a125-de31-48af-88cb-e2be37f736d3",
   "metadata": {},
   "outputs": [],
   "source": [
    "#mesaure all fluorescence intensities; create label image for directing measurements then measure within those labels\n",
    "for i in range(len(img_stacks)):\n",
    "    cell_masks = sk.measure.label(masks[i]) #does not create a label image in Napari\n",
    "    ratio_measurements = sk.measure.regionprops_table(cell_masks, img_stacks[i], \n",
    "                                                  properties=('label','area', 'centroid','intensity_max','intensity_mean','intensity_min'))\n",
    "    df = pd.DataFrame.from_dict(ratio_measurements)\n",
    "    clean_name = str(red_images[i])\n",
    "    clean_name = clean_name[3:-4]\n",
    "    df.to_csv(os.path.join(save_df_path,'measurements_'+clean_name+'.csv'))\n",
    "    "
   ]
  },
  {
   "cell_type": "code",
   "execution_count": 59,
   "id": "aa29d969-01da-4068-919f-7591aa22a00c",
   "metadata": {},
   "outputs": [],
   "source": [
    "viewer = napari.view_image(img_stacks[0], name= 'test')"
   ]
  },
  {
   "cell_type": "code",
   "execution_count": null,
   "id": "468a06a1-68d5-47cd-a720-5da23e646bb2",
   "metadata": {},
   "outputs": [],
   "source": [
    "io.logger_setup()\n",
    "\n",
    "# model_type='cyto' or 'nuclei' or 'cyto2' or 'cyto3'\n",
    "model = models.Cellpose(gpu=True,model_type='cyto3')\n",
    "\n",
    "# list of files\n",
    "# PUT PATH TO YOUR FILES HERE!\n",
    "#file = 'E:/Rothbart_Lab/Kate/MitoTracker/Round_3_Imaging/Split_Channels/Reconstructed_TPMT/MED_top_hat-43125078.tif'\n",
    "\n",
    "imgs = imread(file)\n",
    "# nimg = len(imgs)\n",
    "\n",
    "# define CHANNELS to run segementation on\n",
    "# grayscale=0, R=1, G=2, B=3\n",
    "# channels = [cytoplasm, nucleus]\n",
    "# if NUCLEUS channel does not exist, set the second channel to 0\n",
    "channels = [[0,0]]\n",
    "# IF ALL YOUR IMAGES ARE THE SAME TYPE, you can give a list with 2 elements\n",
    "# channels = [0,0] # IF YOU HAVE GRAYSCALE\n",
    "# channels = [2,3] # IF YOU HAVE G=cytoplasm and B=nucleus\n",
    "# channels = [2,1] # IF YOU HAVE G=cytoplasm and R=nucleus\n",
    "\n",
    "# if diameter is set to None, the size of the cells is estimated on a per image basis\n",
    "# you can set the average cell `diameter` in pixels yourself (recommended)\n",
    "# diameter can be a list or a single number for all images\n",
    "\n",
    "masks, flows, styles, diams = model.eval(imgs, diameter=270, channels=channels)\n",
    "\n",
    "\n",
    "### or to run one of the other models, or a custom model, specify a CellposeModel\n",
    "# model = models.CellposeModel(model_type='livecell_cp3')\n",
    "\n",
    "# masks, flows, styles = model.eval(imgs, diameter=30, channels=[0,0])"
   ]
  },
  {
   "cell_type": "code",
   "execution_count": null,
   "id": "4be8993e-cbe8-49c5-99b2-c3ac9439e5f8",
   "metadata": {},
   "outputs": [],
   "source": [
    "viewer = napari.view_image(imgs, name = 'MED_TopHat')\n",
    "viewer.add_image(masks, name = 'masks')"
   ]
  },
  {
   "cell_type": "code",
   "execution_count": null,
   "id": "2473bf91-d0ac-49fc-8908-f5d8c863169f",
   "metadata": {},
   "outputs": [],
   "source": [
    "from cellpose import plot\n",
    "fig = plt.figure(figsize=(12,5))\n",
    "plot.show_segmentation(fig, imgs, masks, flows[0], channels=channels)\n",
    "plt.tight_layout()\n",
    "plt.show()"
   ]
  },
  {
   "cell_type": "code",
   "execution_count": 41,
   "id": "b23c1f82-6523-45be-a511-8fb70b0faa22",
   "metadata": {},
   "outputs": [
    {
     "data": {
      "text/plain": [
       "<Image layer 'Mito Green' at 0x14119e72b80>"
      ]
     },
     "execution_count": 41,
     "metadata": {},
     "output_type": "execute_result"
    }
   ],
   "source": [
    "#Read in the images, and make sure they are visible in Napari\n",
    "red_channel = imread('E:/Rothbart_Lab/Kate/MitoTracker/Round_3_Imaging/Split_Channels/C1_MitoTracker_Red/C1-A1_Veh_a_2024_06_21__17_06_32.tif')\n",
    "green_channel = imread('E:/Rothbart_Lab/Kate/MitoTracker/Round_3_Imaging/Split_Channels/C2_MitoTracker_Green/C2-A1_Veh_a_2024_06_21__17_06_32.tif')\n",
    "viewer = napari.view_image(red_channel, name = 'Mito Red')\n",
    "viewer.add_image(green_channel, name = 'Mito Green')"
   ]
  },
  {
   "cell_type": "code",
   "execution_count": 42,
   "id": "670d4502-be63-4d0a-b5b8-a060b2f26f31",
   "metadata": {},
   "outputs": [],
   "source": [
    "#convert image to numpy array for maths\n",
    "red_array = np.asarray(red_channel, dtype=np.float32)\n",
    "green_array = np.asarray(green_channel,dtype=np.float32)"
   ]
  },
  {
   "cell_type": "code",
   "execution_count": null,
   "id": "b18defc5-2a41-4ee0-8252-5f4f6d749323",
   "metadata": {},
   "outputs": [],
   "source": [
    "#cofirm the conversion to float32\n",
    "print(\"red array: \", red_array.dtype)\n",
    "print(\"green: \", green_array.dtype)"
   ]
  },
  {
   "cell_type": "code",
   "execution_count": 43,
   "id": "3fd25d18-2fba-4c0c-910d-1e28cf794441",
   "metadata": {},
   "outputs": [
    {
     "name": "stdout",
     "output_type": "stream",
     "text": [
      "(24, 2048, 2048)\n"
     ]
    }
   ],
   "source": [
    "#Creating the ratio array between the red and green channels; maintaining all #/0 as 0\n",
    "#green_over_red_ratio = np.divide(green_array, red_array, out=np.zeros_like(green_array), where=red_array!=0) #leaves gaps where the cells are\n",
    "red_over_green_ratio = np.divide(red_array, green_array, out=np.zeros_like(red_array), where=green_array!=0) #out=np.zeros_like(red_array), where=green_array!=0 --> where values are divided by zero, keeps a zero in it's place\n",
    "print(red_over_green_ratio.shape)"
   ]
  },
  {
   "cell_type": "code",
   "execution_count": null,
   "id": "60366ab2-0d65-43ce-bec5-0682225d6f39",
   "metadata": {},
   "outputs": [],
   "source": [
    "#what does the ratio look like?\n",
    "viewer.add_image(ratio, name='otherway_ratio')"
   ]
  },
  {
   "cell_type": "code",
   "execution_count": null,
   "id": "6d8e4c79-4d72-41d1-9f01-dc127d0a0c96",
   "metadata": {},
   "outputs": [],
   "source": [
    "#checking how many 0s are in the arrays\n",
    "non_zero = np.count_nonzero(red_array)\n",
    "total = 24*2048*2048\n",
    "zeros = total - non_zero\n",
    "print('total: ', total)\n",
    "print('non-zeros: ', non_zero)\n",
    "print('zeros: ',zeros)"
   ]
  },
  {
   "cell_type": "code",
   "execution_count": 44,
   "id": "096722cf-3237-4ec7-ae6c-4e2151ac551f",
   "metadata": {},
   "outputs": [],
   "source": [
    "#creating average projections of the stacks\n",
    "avg_g = np.average(green_array, axis=0)\n",
    "#viewer.add_image(avg_green, name = \"green_avg_project\")\n",
    "avg_r = np.average(red_array, axis=0)\n",
    "#viewer.add_image(avg_red, name = \"red_avg_project\")"
   ]
  },
  {
   "cell_type": "code",
   "execution_count": 45,
   "id": "28d28073-1c28-4af4-a22a-45ee70181030",
   "metadata": {},
   "outputs": [
    {
     "name": "stdout",
     "output_type": "stream",
     "text": [
      "(2048, 2048)\n"
     ]
    }
   ],
   "source": [
    "#Calculate ratio of red/green from avg projections\n",
    "red_green_ratio = np.divide(avg_r, avg_g, out=np.zeros_like(avg_r), where=avg_g!=0) #out=np.zeros_like(red_array), where=green_array!=0 --> where values are divided by zero, keeps a zero in it's place\n",
    "#viewer.add_image(red_green_ratio, name = 'red_green_ratio')\n",
    "print(red_green_ratio.shape)"
   ]
  },
  {
   "cell_type": "code",
   "execution_count": null,
   "id": "9e1f6681-c2d0-450a-ae77-7954111e26fc",
   "metadata": {},
   "outputs": [],
   "source": [
    "viewer.add_image(masks, name = 'masks')"
   ]
  },
  {
   "cell_type": "code",
   "execution_count": null,
   "id": "7993c7cc-c540-4c9c-a178-1a5af219d463",
   "metadata": {},
   "outputs": [],
   "source": [
    "#running CellPose on the avg_green mito projection\n",
    "io.logger_setup()\n",
    "\n",
    "# model_type='cyto' or 'nuclei' or 'cyto2' or 'cyto3'\n",
    "model = models.Cellpose(gpu=True,model_type='cyto3')\n",
    "\n",
    "# list of files\n",
    "# PUT PATH TO YOUR FILES HERE!\n",
    "\n",
    "# nimg = len(imgs)\n",
    "\n",
    "# define CHANNELS to run segementation on\n",
    "# grayscale=0, R=1, G=2, B=3\n",
    "# channels = [cytoplasm, nucleus]\n",
    "# if NUCLEUS channel does not exist, set the second channel to 0\n",
    "channels = [[0,0]]\n",
    "# IF ALL YOUR IMAGES ARE THE SAME TYPE, you can give a list with 2 elements\n",
    "# channels = [0,0] # IF YOU HAVE GRAYSCALE\n",
    "# channels = [2,3] # IF YOU HAVE G=cytoplasm and B=nucleus\n",
    "# channels = [2,1] # IF YOU HAVE G=cytoplasm and R=nucleus\n",
    "\n",
    "# if diameter is set to None, the size of the cells is estimated on a per image basis\n",
    "# you can set the average cell `diameter` in pixels yourself (recommended)\n",
    "# diameter can be a list or a single number for all images\n",
    "\n",
    "masks, flows, styles, diams = model.eval(red_green_ratio, diameter=270, channels=channels)"
   ]
  },
  {
   "cell_type": "code",
   "execution_count": null,
   "id": "2c3c01ac-b7cb-485c-a312-010e8ca4b1b5",
   "metadata": {},
   "outputs": [],
   "source": [
    "viewer.add_image(masks, name = 'masks')"
   ]
  },
  {
   "cell_type": "code",
   "execution_count": null,
   "id": "3fa72364-7f5b-432f-ad33-5567cf116160",
   "metadata": {},
   "outputs": [],
   "source": [
    "cell_masks = sk.measure.label(masks) #does not create a label image in Napari\n",
    "ratio_measurements = sk.measure.regionprops_table(cell_masks, red_green_ratio, \n",
    "                                                  properties=('label','area', 'centroid','intensity_max','intensity_mean','intensity_min'))"
   ]
  },
  {
   "cell_type": "code",
   "execution_count": null,
   "id": "0eb4f530-d62a-4878-b5b4-76ca2dcc6308",
   "metadata": {},
   "outputs": [],
   "source": [
    "image_list = [avg_green, avg_red, red_green_ratio]\n",
    "all_channels = np.stack(image_list, axis=-1)\n",
    "all_channels.shape"
   ]
  },
  {
   "cell_type": "code",
   "execution_count": null,
   "id": "09a98a89-0473-4b3e-9571-d340552a1316",
   "metadata": {},
   "outputs": [],
   "source": [
    "ratio_measurements = sk.measure.regionprops_table(cell_masks, all_channels, \n",
    "                                                  properties=('label','area', 'centroid','intensity_max','intensity_mean','intensity_min'))"
   ]
  },
  {
   "cell_type": "code",
   "execution_count": null,
   "id": "717c4fba-c9ac-46f9-a1ed-a2325ca2b2fa",
   "metadata": {},
   "outputs": [],
   "source": [
    "df = pd.DataFrame.from_dict(ratio_measurements)"
   ]
  },
  {
   "cell_type": "code",
   "execution_count": null,
   "id": "3de4a76a-60c3-41f0-ae25-16d347f35256",
   "metadata": {},
   "outputs": [],
   "source": [
    "print(df)"
   ]
  },
  {
   "cell_type": "code",
   "execution_count": null,
   "id": "213bf6f8-be51-4b62-8cea-3d4f44f96fd6",
   "metadata": {},
   "outputs": [],
   "source": [
    "#save the datums!\n",
    "sk.io.imsave('E:/Rothbart_Lab/Kate/MitoTracker/Round_3_Imaging/Split_Channels/Python_output_test/AVG_Mito_Red.tiff',avg_red)"
   ]
  },
  {
   "cell_type": "code",
   "execution_count": null,
   "id": "44c877e9-b11c-4811-b078-b83406795830",
   "metadata": {},
   "outputs": [],
   "source": [
    "sk.io.imsave('E:/Rothbart_Lab/Kate/MitoTracker/Round_3_Imaging/Split_Channels/Python_output_test/AVG_Mito_Green.tiff',avg_green)\n",
    "sk.io.imsave('E:/Rothbart_Lab/Kate/MitoTracker/Round_3_Imaging/Split_Channels/Python_output_test/Ratio_Red_Green.tiff',red_green_ratio)\n",
    "sk.io.imsave('E:/Rothbart_Lab/Kate/MitoTracker/Round_3_Imaging/Split_Channels/Python_output_test/CellPose_Masks.tiff',masks)\n",
    "sk.io.imsave('E:/Rothbart_Lab/Kate/MitoTracker/Round_3_Imaging/Split_Channels/Python_output_test/All_channels.tiff',all_channels)"
   ]
  },
  {
   "cell_type": "code",
   "execution_count": null,
   "id": "4c8dfe59-e4a9-4252-859c-4545e8d79771",
   "metadata": {},
   "outputs": [],
   "source": [
    "df.to_csv('E:/Rothbart_Lab/Kate/MitoTracker/Round_3_Imaging/Split_Channels/Python_output_test/Measurements.csv')"
   ]
  },
  {
   "cell_type": "code",
   "execution_count": null,
   "id": "95ff5a49-d16f-4e94-b04d-ec11ec3c36ea",
   "metadata": {},
   "outputs": [],
   "source": [
    "#turn it into a loop!\n"
   ]
  }
 ],
 "metadata": {
  "kernelspec": {
   "display_name": "Python 3 (ipykernel)",
   "language": "python",
   "name": "python3"
  },
  "language_info": {
   "codemirror_mode": {
    "name": "ipython",
    "version": 3
   },
   "file_extension": ".py",
   "mimetype": "text/x-python",
   "name": "python",
   "nbconvert_exporter": "python",
   "pygments_lexer": "ipython3",
   "version": "3.8.18"
  }
 },
 "nbformat": 4,
 "nbformat_minor": 5
}
