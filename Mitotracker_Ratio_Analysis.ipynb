{
 "cells": [
  {
   "cell_type": "code",
   "execution_count": 1,
   "id": "7dc0db0f-8830-4772-92d6-aa7c8e7fa9cc",
   "metadata": {},
   "outputs": [],
   "source": [
    "import numpy as np\n",
    "import matplotlib.pyplot as plt\n",
    "from cellpose import models, io, utils\n",
    "from cellpose.io import imread\n",
    "import imageio.v2 as imageio\n",
    "from imageio.v2 import imread\n",
    "import skimage as sk\n",
    "import napari\n",
    "import pandas as pd\n",
    "import os"
   ]
  },
  {
   "cell_type": "code",
   "execution_count": null,
   "id": "1b2b5cbc-6674-40d6-9a66-594beeb66eaf",
   "metadata": {},
   "outputs": [],
   "source": [
    "red_path = 'Path/to/red/channel'\n",
    "green_path = 'Path/to/green/channel'\n",
    "red_images = os.listdir(red_path)\n",
    "green_images = os.listdir(green_path)\n",
    "save_df_path = 'Path/to/save/dataframes'\n",
    "save_imgs_path = 'Path/to/save/image_stacks'\n",
    "cp_masks_path = 'Path/to/save/CP_masks'\n",
    "print(red_images)\n",
    "print(green_images)\n",
    "#create avg projections of each channel\n",
    "avg_img_red = []\n",
    "avg_img_green = []\n",
    "for i in range(len(red_images)):\n",
    "    img_red = imread(os.path.join(red_path, red_images[i]))\n",
    "    np_img_red = np.asarray(img_red, dtype=np.float32)\n",
    "    avg_red = np.average(np_img_red, axis=0)\n",
    "    avg_img_red.append(avg_red)\n",
    "    img_green = imread(os.path.join(green_path, green_images[i]))\n",
    "    np_img_green = np.asarray(img_green, dtype=np.float32)\n",
    "    avg_green = np.average(np_img_green, axis=0)\n",
    "    avg_img_green.append(avg_green)\n",
    "print('Done creating arrays')\n",
    "#Create a ratio image of red/green\n",
    "ratio_imgs = []\n",
    "for i in range(len(avg_img_green)):\n",
    "    ratio = np.divide(avg_img_red[i], avg_img_green[i], out=np.zeros_like(avg_img_red[i]), where=avg_img_green[i]!=0)\n",
    "    ratio_imgs.append(ratio)\n",
    "print('Done generating ratio image')\n",
    "#Send ratio images to CP to generate masks\n",
    "io.logger_setup()\n",
    "model = models.Cellpose(gpu=True,model_type='cyto3') # model_type='cyto' or 'nuclei' or 'cyto2' or 'cyto3'\n",
    "channels =[[0,0]]\n",
    "masks, flows, styles, diams = model.eval(ratio_imgs, diameter=270, channels=channels)\n",
    "for i in range(len(masks)):\n",
    "    sk.io.imsave(os.path.join(cp_masks_path,'ratio_mask_'+red_images[i]),masks[i])\n",
    "print('Done creating CP masks')\n",
    "#Stack images and then get measurements\n",
    "img_stacks = []\n",
    "for i in range(len(avg_img_green)):\n",
    "    image_list = [avg_img_green[i],avg_img_red[i],ratio_imgs[i]]\n",
    "    all_channels = np.stack(image_list, axis=-1)\n",
    "    img_stacks.append(all_channels)\n",
    "    print('image ', str(i), ' shape:', all_channels.shape)\n",
    "    sk.io.imsave(os.path.join(save_imgs_path,'ratio_'+red_images[i]),all_channels)\n",
    "    cell_masks = sk.measure.label(masks[i]) #does not create a label image in Napari\n",
    "    ratio_measurements = sk.measure.regionprops_table(cell_masks, img_stacks[i], \n",
    "                                                  properties=('label','area', 'centroid','intensity_max','intensity_mean','intensity_min'))\n",
    "    df = pd.DataFrame.from_dict(ratio_measurements)\n",
    "    clean_name = str(red_images[i])\n",
    "    clean_name = clean_name[3:-4]\n",
    "    df.to_csv(os.path.join(save_df_path,'measurements_'+clean_name+'.csv'))\n",
    "print('Done with creating measurements!')"
   ]
  }
 ],
 "metadata": {
  "kernelspec": {
   "display_name": "Python 3 (ipykernel)",
   "language": "python",
   "name": "python3"
  },
  "language_info": {
   "codemirror_mode": {
    "name": "ipython",
    "version": 3
   },
   "file_extension": ".py",
   "mimetype": "text/x-python",
   "name": "python",
   "nbconvert_exporter": "python",
   "pygments_lexer": "ipython3",
   "version": "3.8.18"
  }
 },
 "nbformat": 4,
 "nbformat_minor": 5
}
